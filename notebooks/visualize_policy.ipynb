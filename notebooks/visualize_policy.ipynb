
import matplotlib.pyplot as plt
import numpy as np

positions = []
rewards = []

# Dummy simulation log
with open('../sim_log.txt', 'r') as f:
    for line in f:
        px, py, r = map(float, line.strip().split())
        positions.append((px, py))
        rewards.append(r)

positions = np.array(positions)

# Plot trajectory
plt.figure(figsize=(6, 6))
plt.plot(positions[:, 0], positions[:, 1], marker='o', alpha=0.6)
plt.scatter([3.0, 5.0], [3.0, 1.0], c='red', label='Food Goals')
plt.title('Agent Foraging Trajectory')
plt.xlabel('X Position')
plt.ylabel('Y Position')
plt.grid(True)
plt.legend()
plt.show()
